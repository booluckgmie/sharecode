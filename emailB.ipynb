{
 "cells": [
  {
   "cell_type": "code",
   "execution_count": 1,
   "metadata": {},
   "outputs": [
    {
     "name": "stdout",
     "output_type": "stream",
     "text": [
      "Collecting yagmail"
     ]
    },
    {
     "name": "stderr",
     "output_type": "stream",
     "text": [
      "\n",
      "[notice] A new release of pip is available: 24.1.2 -> 25.0\n",
      "[notice] To update, run: python.exe -m pip install --upgrade pip\n"
     ]
    },
    {
     "name": "stdout",
     "output_type": "stream",
     "text": [
      "\n",
      "  Downloading yagmail-0.15.293-py2.py3-none-any.whl.metadata (2.9 kB)\n",
      "Collecting premailer (from yagmail)\n",
      "  Downloading premailer-3.10.0-py2.py3-none-any.whl.metadata (15 kB)\n",
      "Requirement already satisfied: lxml in c:\\users\\ahmadnajmi.ariffin\\appdata\\local\\programs\\python\\python311\\lib\\site-packages (from premailer->yagmail) (5.2.2)\n",
      "Collecting cssselect (from premailer->yagmail)\n",
      "  Downloading cssselect-1.2.0-py2.py3-none-any.whl.metadata (2.2 kB)\n",
      "Collecting cssutils (from premailer->yagmail)\n",
      "  Downloading cssutils-2.11.1-py3-none-any.whl.metadata (8.7 kB)\n",
      "Requirement already satisfied: requests in c:\\users\\ahmadnajmi.ariffin\\appdata\\local\\programs\\python\\python311\\lib\\site-packages (from premailer->yagmail) (2.32.3)\n",
      "Requirement already satisfied: cachetools in c:\\users\\ahmadnajmi.ariffin\\appdata\\local\\programs\\python\\python311\\lib\\site-packages (from premailer->yagmail) (5.4.0)\n",
      "Collecting more-itertools (from cssutils->premailer->yagmail)\n",
      "  Downloading more_itertools-10.6.0-py3-none-any.whl.metadata (37 kB)\n",
      "Requirement already satisfied: charset-normalizer<4,>=2 in c:\\users\\ahmadnajmi.ariffin\\appdata\\local\\programs\\python\\python311\\lib\\site-packages (from requests->premailer->yagmail) (3.3.2)\n",
      "Requirement already satisfied: idna<4,>=2.5 in c:\\users\\ahmadnajmi.ariffin\\appdata\\local\\programs\\python\\python311\\lib\\site-packages (from requests->premailer->yagmail) (3.7)\n",
      "Requirement already satisfied: urllib3<3,>=1.21.1 in c:\\users\\ahmadnajmi.ariffin\\appdata\\local\\programs\\python\\python311\\lib\\site-packages (from requests->premailer->yagmail) (2.2.2)\n",
      "Requirement already satisfied: certifi>=2017.4.17 in c:\\users\\ahmadnajmi.ariffin\\appdata\\local\\programs\\python\\python311\\lib\\site-packages (from requests->premailer->yagmail) (2024.8.30)\n",
      "Downloading yagmail-0.15.293-py2.py3-none-any.whl (17 kB)\n",
      "Downloading premailer-3.10.0-py2.py3-none-any.whl (19 kB)\n",
      "Downloading cssselect-1.2.0-py2.py3-none-any.whl (18 kB)\n",
      "Downloading cssutils-2.11.1-py3-none-any.whl (385 kB)\n",
      "   ---------------------------------------- 0.0/385.7 kB ? eta -:--:--\n",
      "   ------------------------------- -------- 307.2/385.7 kB 9.6 MB/s eta 0:00:01\n",
      "   ---------------------------------------- 385.7/385.7 kB 6.1 MB/s eta 0:00:00\n",
      "Downloading more_itertools-10.6.0-py3-none-any.whl (63 kB)\n",
      "   ---------------------------------------- 0.0/63.0 kB ? eta -:--:--\n",
      "   ---------------------------------------- 63.0/63.0 kB 3.5 MB/s eta 0:00:00\n",
      "Installing collected packages: more-itertools, cssselect, cssutils, premailer, yagmail\n",
      "Successfully installed cssselect-1.2.0 cssutils-2.11.1 more-itertools-10.6.0 premailer-3.10.0 yagmail-0.15.293\n"
     ]
    }
   ],
   "source": [
    "!pip install yagmail"
   ]
  },
  {
   "cell_type": "markdown",
   "metadata": {},
   "source": [
    "<!-- yfxf wzyw kzsi cyra -->"
   ]
  },
  {
   "cell_type": "code",
   "execution_count": 6,
   "metadata": {},
   "outputs": [
    {
     "name": "stdout",
     "output_type": "stream",
     "text": [
      "Sending batch 1: ['booluckgmie@gmail.com', 'anajmiariffin@gmail.com']\n",
      "Email sent to booluckgmie@gmail.com\n",
      "Email sent to anajmiariffin@gmail.com\n",
      "✅ All emails have been sent successfully.\n"
     ]
    }
   ],
   "source": [
    "import yagmail\n",
    "import time\n",
    "\n",
    "# Gmail credentials (Use App Password if 2FA is enabled)\n",
    "GMAIL_USER = \"myketapang@gmail.com\"\n",
    "GMAIL_PASSWORD = \"yfxfwzywkzsicyra\"  # Do NOT use your normal password.\n",
    "\n",
    "# Email subject and content (HTML supported)\n",
    "subject = \"Last 3 Seats! Crown & Bridge Workshop – Print Your Own Crown on the Same Day!\"\n",
    "body = \"\"\"\n",
    "<br><br>\n",
    "<div dir=\"auto\"><p>Dear Drs,</p><p>Are you ready to elevate your&nbsp;<strong>Crown &amp; Bridge</strong>&nbsp;skills with&nbsp;<strong>both analogue and digital techniques</strong>—at an unbeatable price? This is your chance to&nbsp;<strong>learn from one of KL’s most renowned prosthodontists, Prof. Dr. Seow</strong>, alongside&nbsp;<strong>Dr. Beh</strong>, in a hands-on, evidence-based workshop!</p><p><strong><img data-emoji=\"🦷\" class=\"an1\" alt=\"🦷\" aria-label=\"🦷\" draggable=\"false\" src=\"https://fonts.gstatic.com/s/e/notoemoji/16.0/1f9b7/32.png\" loading=\"lazy\"> What makes this workshop unique?</strong><br><img data-emoji=\"✅\" class=\"an1\" alt=\"✅\" aria-label=\"✅\" draggable=\"false\" src=\"https://fonts.gstatic.com/s/e/notoemoji/16.0/2705/32.png\" loading=\"lazy\"> Learn&nbsp;<strong>both analogue &amp; digital workflows</strong><br><img data-emoji=\"✅\" class=\"an1\" alt=\"✅\" aria-label=\"✅\" draggable=\"false\" src=\"https://fonts.gstatic.com/s/e/notoemoji/16.0/2705/32.png\" loading=\"lazy\">&nbsp;<strong>Print your own crown</strong>&nbsp;on the same day!<br><img data-emoji=\"✅\" class=\"an1\" alt=\"✅\" aria-label=\"✅\" draggable=\"false\" src=\"https://fonts.gstatic.com/s/e/notoemoji/16.0/2705/32.png\" loading=\"lazy\"> Get expert insights from a&nbsp;<strong>leading prosthodontist</strong><br><img data-emoji=\"✅\" class=\"an1\" alt=\"✅\" aria-label=\"✅\" draggable=\"false\" src=\"https://fonts.gstatic.com/s/e/notoemoji/16.0/2705/32.png\" loading=\"lazy\">&nbsp;<strong>Competitive pricing</strong>&nbsp;for top-tier education</p><p><strong><img data-emoji=\"📅\" class=\"an1\" alt=\"📅\" aria-label=\"📅\" draggable=\"false\" src=\"https://fonts.gstatic.com/s/e/notoemoji/16.0/1f4c5/32.png\" loading=\"lazy\"> Date:</strong>&nbsp;16 February 2025 (Sunday)<br><strong><img data-emoji=\"⏰\" class=\"an1\" alt=\"⏰\" aria-label=\"⏰\" draggable=\"false\" src=\"https://fonts.gstatic.com/s/e/notoemoji/16.0/23f0/32.png\" loading=\"lazy\"> Time:</strong>&nbsp;9 AM - 5 PM<br><strong><img data-emoji=\"📍\" class=\"an1\" alt=\"📍\" aria-label=\"📍\" draggable=\"false\" src=\"https://fonts.gstatic.com/s/e/notoemoji/16.0/1f4cd/32.png\" loading=\"lazy\"> Venue:</strong>&nbsp;IMU, Bukit Jalil, Selangor<br><strong><img data-emoji=\"🎓\" class=\"an1\" alt=\"🎓\" aria-label=\"🎓\" draggable=\"false\" src=\"https://fonts.gstatic.com/s/e/notoemoji/16.0/1f393/32.png\" loading=\"lazy\"> CPD Points:</strong>&nbsp;6</p><p><strong><img data-emoji=\"🔥\" class=\"an1\" alt=\"🔥\" aria-label=\"🔥\" draggable=\"false\" src=\"https://fonts.gstatic.com/s/e/notoemoji/16.0/1f525/32.png\" loading=\"lazy\"> Topics Covered:</strong></p><ul><li>Restorative strategies &amp; treatment planning</li><li>Occlusion &amp; material selection</li><li>Provisional restorations &amp; impression techniques</li><li>All-ceramic crowns &amp; luting cements</li><li><strong>Live 3D printing of your own crown!</strong></li></ul><p><img data-emoji=\"💰\" class=\"an1\" alt=\"💰\" aria-label=\"💰\" draggable=\"false\" src=\"https://fonts.gstatic.com/s/e/notoemoji/16.0/1f4b0/32.png\" loading=\"lazy\">&nbsp;<strong>EXCLUSIVE PRICING:</strong></p><p><b><span style=\"font-size:-apple-system-body\"><img data-emoji=\"✨\" class=\"an1\" alt=\"✨\" aria-label=\"✨\" draggable=\"false\" src=\"https://fonts.gstatic.com/s/e/notoemoji/16.0/2728/32.png\" loading=\"lazy\"><img data-emoji=\"🎉\" class=\"an1\" alt=\"🎉\" aria-label=\"🎉\" draggable=\"false\" src=\"https://fonts.gstatic.com/s/e/notoemoji/16.0/1f389/32.png\" loading=\"lazy\">Early bird price: RM1200<img data-emoji=\"🎉\" class=\"an1\" alt=\"🎉\" aria-label=\"🎉\" draggable=\"false\" src=\"https://fonts.gstatic.com/s/e/notoemoji/16.0/1f389/32.png\" loading=\"lazy\"><img data-emoji=\"✨\" class=\"an1\" alt=\"✨\" aria-label=\"✨\" draggable=\"false\" src=\"https://fonts.gstatic.com/s/e/notoemoji/16.0/2728/32.png\" loading=\"lazy\"> last call</span><br></b><img data-emoji=\"🔹\" class=\"an1\" alt=\"🔹\" aria-label=\"🔹\" draggable=\"false\" src=\"https://fonts.gstatic.com/s/e/notoemoji/16.0/1f539/32.png\" loading=\"lazy\">&nbsp;<strong>Regular Fee:</strong>&nbsp;RM1400<br><img data-emoji=\"🔹\" class=\"an1\" alt=\"🔹\" aria-label=\"🔹\" draggable=\"false\" src=\"https://fonts.gstatic.com/s/e/notoemoji/16.0/1f539/32.png\" loading=\"lazy\">&nbsp;<strong>MAAD Member:</strong>&nbsp;RM1000<br><img data-emoji=\"🔹\" class=\"an1\" alt=\"🔹\" aria-label=\"🔹\" draggable=\"false\" src=\"https://fonts.gstatic.com/s/e/notoemoji/16.0/1f539/32.png\" loading=\"lazy\">&nbsp;<strong>GAP/Student:</strong>&nbsp;RM550<br><img data-emoji=\"🔹\" class=\"an1\" alt=\"🔹\" aria-label=\"🔹\" draggable=\"false\" src=\"https://fonts.gstatic.com/s/e/notoemoji/16.0/1f539/32.png\" loading=\"lazy\">&nbsp;<strong>Group of 2:</strong>&nbsp;RM1000 each |&nbsp;<strong>Group of 5:</strong>&nbsp;RM900 each</p><p><img data-emoji=\"🚨\" class=\"an1\" alt=\"🚨\" aria-label=\"🚨\" draggable=\"false\" src=\"https://fonts.gstatic.com/s/e/notoemoji/16.0/1f6a8/32.png\" loading=\"lazy\">&nbsp;<strong>LAST 3 SEATS LEFT!</strong>&nbsp;Don’t miss this rare opportunity to level up your skills and integrate&nbsp;<strong>digital dentistry</strong>&nbsp;into your practice.</p><p><strong>Secure your spot now!</strong><br><img data-emoji=\"📩\" class=\"an1\" alt=\"📩\" aria-label=\"📩\" draggable=\"false\" src=\"https://fonts.gstatic.com/s/e/notoemoji/16.0/1f4e9/32.png\" loading=\"lazy\">&nbsp;<strong>Register here:&nbsp;</strong><a href=\"https://docs.google.com/forms/d/1bltTWUdu_tcOQkhD6IibOyUwvrWZoYlT74vqj65dFMs/edit\" target=\"_blank\" data-saferedirecturl=\"https://www.google.com/url?q=https://docs.google.com/forms/d/1bltTWUdu_tcOQkhD6IibOyUwvrWZoYlT74vqj65dFMs/edit&amp;source=gmail&amp;ust=1738830147433000&amp;usg=AOvVaw3lNF8-c3qWer3QjFapz1Pb\">https://docs.google.com/<wbr>forms/d/1bltTWUdu_<wbr>tcOQkhD6IibOyUwvrWZoYlT74vqj65<wbr>dFMs/edit</a></p><p>See you at IMU!</p><p>Best regards,<br>Malaysian Association of Aesthetic Dentistry</p><p><br></p></div></div>\n",
    "\"\"\"\n",
    "\n",
    "# Optional: Attach a file (comment out if not needed)\n",
    "attachment = \"UTCAB_022025.pdf\"  # Replace with your actual file path\n",
    "\n",
    "# List of recipients\n",
    "# recipients = [\n",
    "#     \"booluckgmie@gmail.com\", \"anajmiariffin@gmail.com\",\"booluckgmie@gmail.com\", \"anajmiariffin@gmail.com\",\"booluckgmie@gmail.com\", \"anajmiariffin@gmail.com\",\"booluckgmie@gmail.com\", \n",
    "#     \"anajmiariffin@gmail.com\",\"booluckgmie@gmail.com\", \"anajmiariffin@gmail.com\",\"booluckgmie@gmail.com\", \"anajmiariffin@gmail.com\"\n",
    "# ]\n",
    "\n",
    "recipients = [\n",
    "    \"booluckgmie@gmail.com\", \"anajmiariffin@gmail.com\"\n",
    "]\n",
    "\n",
    "# Initialize yagmail\n",
    "yag = yagmail.SMTP(GMAIL_USER, GMAIL_PASSWORD)\n",
    "\n",
    "# Send emails in batches of 10 with a 20-second interval\n",
    "batch_size = 10\n",
    "interval = 20  # Change to 120 for 2 minutes\n",
    "\n",
    "if not recipients:\n",
    "    print(\"No email addresses provided. Exiting...\")\n",
    "else:\n",
    "    for i in range(0, len(recipients), batch_size):\n",
    "        batch = recipients[i:i + batch_size]\n",
    "        print(f\"Sending batch {i // batch_size + 1}: {batch}\")\n",
    "        \n",
    "        for recipient in batch:\n",
    "            yag.send(to=recipient, subject=subject, contents=body, attachments=attachment)\n",
    "            print(f\"Email sent to {recipient}\")\n",
    "        \n",
    "        # Check if there are more emails left before waiting\n",
    "        if i + batch_size < len(recipients):\n",
    "            print(\"Waiting 20 sec before sending the next batch...\")\n",
    "            time.sleep(interval)\n",
    "\n",
    "    print(\"✅ All emails have been sent successfully.\")\n"
   ]
  },
  {
   "cell_type": "code",
   "execution_count": null,
   "metadata": {},
   "outputs": [],
   "source": []
  }
 ],
 "metadata": {
  "kernelspec": {
   "display_name": "Python 3",
   "language": "python",
   "name": "python3"
  },
  "language_info": {
   "codemirror_mode": {
    "name": "ipython",
    "version": 3
   },
   "file_extension": ".py",
   "mimetype": "text/x-python",
   "name": "python",
   "nbconvert_exporter": "python",
   "pygments_lexer": "ipython3",
   "version": "3.11.9"
  }
 },
 "nbformat": 4,
 "nbformat_minor": 2
}
