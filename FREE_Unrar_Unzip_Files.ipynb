{
  "nbformat": 4,
  "nbformat_minor": 0,
  "metadata": {
    "colab": {
      "provenance": [],
      "authorship_tag": "ABX9TyO/nEzneUB9KBClZMEiDAyS",
      "include_colab_link": true
    },
    "kernelspec": {
      "name": "python3",
      "display_name": "Python 3"
    },
    "language_info": {
      "name": "python"
    }
  },
  "cells": [
    {
      "cell_type": "markdown",
      "metadata": {
        "id": "view-in-github",
        "colab_type": "text"
      },
      "source": [
        "<a href=\"https://colab.research.google.com/github/booluckgmie/sharecode/blob/master/FREE_Unrar_Unzip_Files.ipynb\" target=\"_parent\"><img src=\"https://colab.research.google.com/assets/colab-badge.svg\" alt=\"Open In Colab\"/></a>"
      ]
    },
    {
      "cell_type": "code",
      "source": [
        "from google.colab import drive\n",
        "drive.mount('/content/drive')"
      ],
      "metadata": {
        "colab": {
          "base_uri": "https://localhost:8080/"
        },
        "id": "Btovya2-8D_L",
        "outputId": "94d69e00-f37c-4ef3-a65b-9de2b07c8919"
      },
      "execution_count": null,
      "outputs": [
        {
          "output_type": "stream",
          "name": "stdout",
          "text": [
            "Drive already mounted at /content/drive; to attempt to forcibly remount, call drive.mount(\"/content/drive\", force_remount=True).\n"
          ]
        }
      ]
    },
    {
      "cell_type": "code",
      "source": [
        "!pip install unrar"
      ],
      "metadata": {
        "colab": {
          "base_uri": "https://localhost:8080/"
        },
        "id": "3LvAGyHP_AVn",
        "outputId": "8afb5e44-7ceb-4d2b-faf6-d0d924a241dd"
      },
      "execution_count": null,
      "outputs": [
        {
          "output_type": "stream",
          "name": "stdout",
          "text": [
            "Requirement already satisfied: unrar in /usr/local/lib/python3.10/dist-packages (0.4)\n"
          ]
        }
      ]
    },
    {
      "cell_type": "code",
      "source": [
        "!ls"
      ],
      "metadata": {
        "colab": {
          "base_uri": "https://localhost:8080/"
        },
        "id": "yZOf84FL-od7",
        "outputId": "89489690-2fce-4d83-9f95-f0316e9c55df"
      },
      "execution_count": null,
      "outputs": [
        {
          "output_type": "stream",
          "name": "stdout",
          "text": [
            "drive  sample_data\n"
          ]
        }
      ]
    },
    {
      "cell_type": "code",
      "source": [
        "!ls drive/MyDrive/SFTP\\ OpenDOSM #Group 1 - Project Paper_Reference.rar"
      ],
      "metadata": {
        "colab": {
          "base_uri": "https://localhost:8080/"
        },
        "id": "MhnZiUu58r01",
        "outputId": "a30a7247-5a16-4e54-8244-12711893932a"
      },
      "execution_count": null,
      "outputs": [
        {
          "output_type": "stream",
          "name": "stdout",
          "text": [
            "MobaXterm_Installer_v24.1.zip  opendosm.ppk\n"
          ]
        }
      ]
    },
    {
      "cell_type": "code",
      "source": [
        "!ls drive/MyDrive/"
      ],
      "metadata": {
        "colab": {
          "base_uri": "https://localhost:8080/"
        },
        "id": "B7aivNlNBkun",
        "outputId": "cbd48436-edb7-4a92-fb7c-cec46ed7fff5"
      },
      "execution_count": null,
      "outputs": [
        {
          "output_type": "stream",
          "name": "stdout",
          "text": [
            " 05DEC125-49C7-4975-B079-6B077B379B73.png\n",
            " 19DE8A4D-F7F4-488D-87CB-D2B9834D3217.jpeg\n",
            "'1. MESR_Labour Scenario February 2023_FINAL_edited Kums.docx'\n",
            "'1. MESR_Labour Scenario February 2023_FINAL_editedNaj28042023.docx'\n",
            "'1. MESR_Labour Scenario February 2023_FINAL_editedNaj28042023.gdoc'\n",
            "'28 SABAH-MEMBAKUT.xlsx'\n",
            " 4AA58AAB-D6A7-416A-8C8D-16603C3ED6AE.jpeg\n",
            " 69EFA935-B7E4-44E5-9943-FDEA73A2684F.png\n",
            " a16fig04.jpg\n",
            "'Abstract PERKK2023 : REVIEW ON BIG DATA ANALYTICS IN POPULATION RESEARCH:  METHODS AND APPLICATIONS.gdoc'\n",
            "'addresses = [\"123 Main St\", \"456 Elm St\", \"789 Oak St\", \"321 Pine St\", \"654 Maple St\"]'$'\\n''   postcodes = [\"ABC123\", \"DEF456~d of 80%'$'\\n''merged_data = merge_similar_rows(dummy_data, 0.8)'$'\\n''print(\"\\nMerged Data:\")'$'\\n''for row in merged_data:'$'\\n''   print(row).gsheet'\n",
            " AEEF8D34-1CDE-4C5A-9271-40C58953B891.jpeg\n",
            "'Agenda Bengkel PAKW_Mac2024.pptx'\n",
            "'AMO Enhancing Practices EWB in Malaysia.gdoc'\n",
            "'Application of seemless hybrid geocoding solution for business location using KawasanKu API.gdoc'\n",
            "'Assignment 3 (Final Project): Research Proposal Write-up.gdoc'\n",
            " B1D48C20-9088-4F7E-A1F2-04CCA3276FE3.jpeg\n",
            "'Backup GOTrace.gsheet'\n",
            " Balance_EWB_Sust\n",
            "'Bibliography Example.gdoc'\n",
            "'Billing TNB.gsheet'\n",
            " BNM_OpenDOSM\n",
            " BulkWhatsapp.gsheet\n",
            "'Bursa Crawl.gsheet'\n",
            " CDC_#ADU.gsheet\n",
            " census-gpt\n",
            " Classroom\n",
            "'Colab Notebooks'\n",
            "'Comparison Sumber Data Sewa.gsheet'\n",
            "'Copy of 20200421 GHL group reporting geolocation.gsheet'\n",
            "'Copy of Bulk Whatsapp using Google Spreadsheet (Template).gsheet'\n",
            "'Copy of COVID-19_Najmi UKK.gsheet'\n",
            "'Copy of DataCapture_SIIMApps.gsheet'\n",
            "'Copy of Kappa and Spreadsheets.gsheet'\n",
            "'Copy of LAPORAN PEMANTAUAN SOSIAL MEDIA SCDP (5 SEPTEMBER 2020).xlsx'\n",
            "'Copy of Progress Bar - by PresentationGO.gslides'\n",
            "'Copy of Stats Cross Number Puzzle Online.gsheet'\n",
            "'Copy of X2020.gsheet'\n",
            "'CSAM MyIPCS.gdoc'\n",
            "'CTADR | SIIMapps Kerja Operasi DOSM WPKL.gslides'\n",
            "'CTADR | SIIMapps Kerja Operasi DOSM WPKL.pptx'\n",
            " CVS_DataCollection.gsheet\n",
            " D2E02EEA-FF09-4F7D-8FAF-6F52B4A8B272.png\n",
            " dailycovid-19.gsheet\n",
            "'Daily GeocodeAPI_Traffic Response.gsheet'\n",
            "'Daily Task @DOSM.gsheet'\n",
            "'Daily Task - Najmi JAdversiting.gsheet'\n",
            " DataCapture_SIIMApps.gsheet\n",
            "'Data-Driven Approach using Modin: A Scalable Parallel Processing for Larger Dataframes.gdoc'\n",
            "'Data States and federal.gsheet'\n",
            "'Dokumentasi Algorithm Penentuan Kemiskinan PADU .gdoc'\n",
            " DOSM_EMAIL.gsheet\n",
            "'DOSM trending searches dashboard.gsheet'\n",
            "'Draft Manuscript: Theoretical Perspectives on Employee Well-being in Sustainability Studies.gdoc'\n",
            " ecd26995-e120-41cc-b84f-66df07196d1f.gdoc\n",
            " ecd26995-e120-41cc-b84f-66df07196d1f.jpg\n",
            " email2notiontask.gscript\n",
            "'Email Integration to GSheet.gscript'\n",
            " FE74A84F-012A-43A6-AB1E-79A51A14CDA5.jpeg\n",
            " FFA56E63-56EA-4D94-8639-54DAC85BD11E.png\n",
            " frontalview-e1330911885627.jpg\n",
            " GE2021\n",
            " geocodePADU\n",
            "'GoTrace DB'\n",
            "'Highcharts with Google Sheets.gsheet'\n",
            "'Hutang Wajib diBAYAR.gsheet'\n",
            "'IC AHMAD NAJMI#.pdf'\n",
            " imagesDOSMT2023\n",
            " images.jpg\n",
            " IMG_7862.PNG\n",
            " index_match_multiplesheet.xlsx\n",
            "'iRakyat - - Account Overview -.pdf'\n",
            "'JKM_Pendaftaran_Orang_Kurang_Upaya_mengikut_Daerah_2018_2021 (2).gsheet'\n",
            "'JKM_Pendaftaran_Orang_Kurang_Upaya_mengikut_Daerah_2018_2021 (2).xlsx'\n",
            " kepong-tabur.gmap\n",
            "'Klasifikasi Konfigurasi Cloud - OpenDOSM.gsheet'\n",
            " KPDNHEP.csv\n",
            "'log name limit 3 (Responses).gsheet'\n",
            "'log name limit 5.gform'\n",
            "'LWIS Progress_v2_Feb2024.pptx'\n",
            "'MAAD 19th AGM & Scientific Meeting 2023.gsheet'\n",
            "'MAAD Live Webinar by Dr Liu Jingjin.gsheet'\n",
            " Mapping_DC.gsheet\n",
            "'Method flow.gslides'\n",
            " MISS2023.gsheet\n",
            "'MISS DATA Report KAWASANKU 1970-2020.gsheet'\n",
            "'Modelling DI_district level.gsheet'\n",
            "'MOIA Events for Single Implant Green Blue - Module 1 & 2.gsheet'\n",
            "'Monthly budget (1).gsheet'\n",
            "'Monthly budget (2).gsheet'\n",
            "'Monthly budget.gsheet'\n",
            "'More References AMO.gsheet'\n",
            "'MSIC 64999_CTADR Najmi.xlsx'\n",
            " MyPersonal2\n",
            " MySoftware\n",
            " MyStudy\n",
            " Non-Edited\n",
            "'OpenDOSM Progress 2024.gslides'\n",
            " OrderBaju_Sukaneka.gsheet\n",
            "'PADU B.Makanan (β).gsheet'\n",
            "'PADU Data Management Backup Documentation.gdoc'\n",
            "'PADU_KSH_Makanan,_Beta_&_Bukan_Makanan_2024_districtV5_sim.gsheet'\n",
            "'PADU_KSH_Makanan,_Beta_&_Bukan_Makanan_2024_districtV5_sim.xlsx'\n",
            "'Payment Transactions MISS2023.gsheet'\n",
            "'Pelan Tindakan  Pelaksanaan 2015 - 2020[598].pdf'\n",
            "'Pelan Tindakan  Pelaksanaan 2015 - 2020[598].xlsx'\n",
            "'PENGAGIHAN AKTIVITI_PROGRAM HSN 2019 DAN SAMBUTAN 70 TAHUN DOSM 31 7 2019.xlsx'\n",
            " photo_2023-04-13_16-08-44.jpg\n",
            "'photo_2023-04-14_12-49-35 (1).jpg'\n",
            " photo_2023-04-14_12-49-35.jpg\n",
            " photo_2023-04-14_12-49-39.jpg\n",
            " PKAW_APR2024.pptx\n",
            " potentialID_HIS2022.csv\n",
            "'Potential Res_Selangor.gsheet'\n",
            "'Prevelance Pred HFMD-draft_Finale05.gdoc'\n",
            "'Prototype DMS-MRUN.gscript'\n",
            " PSJ2021-2025\n",
            "'PTJ Pemukiman Platform.gscript'\n",
            "'Purata Harga KSH by Daerah (2022&2023)_05012024.xlsx'\n",
            " refill.gsheet\n",
            "'Registration: MOIA8nite Single Implant Therapy in Aesthetic Zone.gsheet'\n",
            "'Registration: MOIA8nite The Evolution of Implants Prosthetics.gsheet'\n",
            "'Registration MOIA Implant Courses 2023.gsheet'\n",
            "'Reg:UNDER THE PINK 2024.gsheet'\n",
            "'Report StaTact UNITAR.gdoc'\n",
            "'Research Gap Qs Objectives.gdoc'\n",
            "'Resume Najmi_YStat_MyStat20202e.pdf'\n",
            " rgeocode.gscript\n",
            "'Sample direct Data OpenDOSM.gsheet'\n",
            " Sample.gsheet\n",
            " sample_napic.gsheet\n",
            " Sample_PriceCPI_Johor.gsheet\n",
            "'Scrape_BigData UN Coureses.gsheet'\n",
            "'Scrape_BigData UN Coureses_Result.gsheet'\n",
            " ScrapeWiki.gsheet\n",
            " ScrapingToday.gsheet\n",
            " Screencastify\n",
            "'Script emcee_online.gdoc'\n",
            " sewaNAPIC2022.xlsx\n",
            "'SFTP OpenDOSM'\n",
            " sheet_name.gsheet\n",
            " sheet_name.xlsx\n",
            "'Skillset Statistician'\n",
            "'SLAID OPEN DOSM'\n",
            "'SLAID PEMBENTANGAN JPPICT_OpenDOSM.pptx'\n",
            "'SLR: HRM Practices on EWB in a Multi-generational Workforce.gslides'\n",
            " Statement.pdf\n",
            "'Strategic initiatives : Measuring the size of informal sector and micro-industry via eCommerce and social media data-driven..gslides'\n",
            "'SUKANEKA PAPN2023.jpg'\n",
            " TaiwanVisit.gdoc\n",
            " Takeout\n",
            "'Takeout (1)'\n",
            "'Technical Paper - Reload PIN on Survey.gdoc'\n",
            "'Translated copy of Untitled document.gdoc'\n",
            " UC_PADU.drawio\n",
            "'unpivot COVID-19.gsheet'\n",
            "'Untitled document (1).gdoc'\n",
            "'Untitled document (2).gdoc'\n",
            "'Untitled document (3).gdoc'\n",
            "'Untitled document (4).gdoc'\n",
            "'Untitled document.gdoc'\n",
            "'Untitled form.gform'\n",
            "'Untitled map.gmap'\n",
            "'Untitled spreadsheet (10).gsheet'\n",
            "'Untitled spreadsheet (1).gsheet'\n",
            "'Untitled spreadsheet (2).gsheet'\n",
            "'Untitled spreadsheet (3).gsheet'\n",
            "'Untitled spreadsheet (4).gsheet'\n",
            "'Untitled spreadsheet (5).gsheet'\n",
            "'Untitled spreadsheet (6).gsheet'\n",
            "'Untitled spreadsheet (7).gsheet'\n",
            "'Untitled spreadsheet (8).gsheet'\n",
            "'Untitled spreadsheet (9).gsheet'\n",
            "'Untitled spreadsheet.gsheet'\n",
            "'UPDATED BAHAN SLR 2019'\n",
            "'Vlookup Across Sheets.gsheet'\n",
            "'Vote Kulit buku & Poster PSJ 2021-2025.gsheet'\n",
            "'Website Development Proposal.gslides'\n",
            "'Website Proposal.gslides'\n",
            "'WorkFlow Team Data Integrasi_ETL Mapping.gsheet'\n",
            "'Working doc_Abstract PERKK2023.gdoc'\n",
            " xsMapping\n"
          ]
        }
      ]
    },
    {
      "cell_type": "markdown",
      "source": [
        "## UNRAR"
      ],
      "metadata": {
        "id": "JaFg16ol_-w7"
      }
    },
    {
      "cell_type": "code",
      "execution_count": null,
      "metadata": {
        "id": "QIr-Um8h7-kr"
      },
      "outputs": [],
      "source": [
        "# !unrar x file_path"
      ]
    },
    {
      "cell_type": "code",
      "source": [
        "# !pip install unrar\n",
        "!unrar x /content/drive/MyDrive/Group\\ 1\\ -\\ Project\\ Paper_Reference.rar"
      ],
      "metadata": {
        "colab": {
          "base_uri": "https://localhost:8080/"
        },
        "id": "yB6t3E2iASAA",
        "outputId": "2ffd55c2-a61e-42c9-a561-f8b358d0341c"
      },
      "execution_count": null,
      "outputs": [
        {
          "output_type": "stream",
          "name": "stdout",
          "text": [
            "\n",
            "UNRAR 6.11 beta 1 freeware      Copyright (c) 1993-2022 Alexander Roshal\n",
            "\n",
            "\n",
            "Extracting from /content/drive/MyDrive/Group 1 - Project Paper_Reference.rar\n",
            "\n",
            "Extracting  NNBBMQ.pdf                                                   \b\b\b\b  0%\b\b\b\b  1%\b\b\b\b  2%\b\b\b\b  3%\b\b\b\b  4%\b\b\b\b  5%\b\b\b\b  6%\b\b\b\b  7%\b\b\b\b  8%\b\b\b\b  9%\b\b\b\b 10%\b\b\b\b 11%\b\b\b\b 12%\b\b\b\b 13%\b\b\b\b 14%\b\b\b\b 15%\b\b\b\b 16%\b\b\b\b 17%\b\b\b\b 18%\b\b\b\b 19%\b\b\b\b 20%\b\b\b\b 21%\b\b\b\b 22%\b\b\b\b 23%\b\b\b\b 24%\b\b\b\b 25%\b\b\b\b 26%\b\b\b\b 27%\b\b\b\b 28%\b\b\b\b 29%\b\b\b\b 30%\b\b\b\b 31%\b\b\b\b 32%\b\b\b\b 33%\b\b\b\b 34%\b\b\b\b 35%\b\b\b\b 36%\b\b\b\b 37%\b\b\b\b 38%\b\b\b\b 39%\b\b\b\b 40%\b\b\b\b 41%\b\b\b\b 42%\b\b\b\b 43%\b\b\b\b 44%\b\b\b\b 45%\b\b\b\b 46%\b\b\b\b 47%\b\b\b\b 48%\b\b\b\b 49%\b\b\b\b 50%\b\b\b\b 51%\b\b\b\b 52%\b\b\b\b 53%\b\b\b\b 54%\b\b\b\b 55%\b\b\b\b 56%\b\b\b\b 57%\b\b\b\b 58%\b\b\b\b 59%\b\b\b\b 60%\b\b\b\b 61%\b\b\b\b 62%\b\b\b\b 63%\b\b\b\b 64%\b\b\b\b 65%\b\b\b\b 66%\b\b\b\b 67%\b\b\b\b 68%\b\b\b\b\b  OK \n",
            "Extracting  nohri.pdf                                                    \b\b\b\b 69%\b\b\b\b 70%\b\b\b\b 71%\b\b\b\b 72%\b\b\b\b 73%\b\b\b\b 74%\b\b\b\b 75%\b\b\b\b 76%\b\b\b\b 77%\b\b\b\b 78%\b\b\b\b 79%\b\b\b\b 80%\b\b\b\b 81%\b\b\b\b 82%\b\b\b\b 83%\b\b\b\b 84%\b\b\b\b\b  OK \n",
            "Extracting  OH_st_Esurv.pdf                                              \b\b\b\b 84%\b\b\b\b 85%\b\b\b\b 86%\b\b\b\b 87%\b\b\b\b 88%\b\b\b\b 89%\b\b\b\b 90%\b\b\b\b 91%\b\b\b\b 92%\b\b\b\b 93%\b\b\b\b 94%\b\b\b\b 95%\b\b\b\b 96%\b\b\b\b\b  OK \n",
            "Extracting  sr02_130.pdf                                                 \b\b\b\b 96%\b\b\b\b\b  OK \n",
            "Extracting  cdoe680.pdf                                                  \b\b\b\b 96%\b\b\b\b 97%\b\b\b\b 98%\b\b\b\b\b  OK \n",
            "Extracting  IDJ_2008.pdf                                                 \b\b\b\b 98%\b\b\b\b 99%\b\b\b\b\b  OK \n",
            "Extracting  j.1600-0528.2000.280301.x.pdf                                \b\b\b\b 99%\b\b\b\b100%\b\b\b\b\b  OK \n",
            "All OK\n"
          ]
        }
      ]
    },
    {
      "cell_type": "markdown",
      "source": [
        "### UNZIP"
      ],
      "metadata": {
        "id": "3eX1S5Je_89D"
      }
    },
    {
      "cell_type": "code",
      "source": [
        "!unzip /content/drive/MyDrive/SFTP\\ OpenDOSM/MobaXterm_Installer_v24.1.zip -d /content/drive/MyDrive/SFTP\\ OpenDOSM\n"
      ],
      "metadata": {
        "colab": {
          "base_uri": "https://localhost:8080/"
        },
        "id": "bdNl6D92_K9l",
        "outputId": "b75a3fc3-68a4-45d5-b382-90998d6b4402"
      },
      "execution_count": null,
      "outputs": [
        {
          "output_type": "stream",
          "name": "stdout",
          "text": [
            "Archive:  /content/drive/MyDrive/SFTP OpenDOSM/MobaXterm_Installer_v24.1.zip\n",
            "  inflating: /content/drive/MyDrive/SFTP OpenDOSM/MobaXterm_installer_24.1.msi  \n",
            "  inflating: /content/drive/MyDrive/SFTP OpenDOSM/MobaXterm_installer.dat  \n"
          ]
        }
      ]
    },
    {
      "cell_type": "code",
      "source": [],
      "metadata": {
        "id": "lG4IDbSV_Wcx"
      },
      "execution_count": null,
      "outputs": []
    }
  ]
}